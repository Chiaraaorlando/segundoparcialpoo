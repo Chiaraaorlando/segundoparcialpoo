{
 "cells": [
  {
   "cell_type": "markdown",
   "id": "983a545dd2eb214c",
   "metadata": {
    "collapsed": false
   },
   "source": [
    "\n",
    "\n",
    "\n",
    "\n"
   ]
  },
  {
   "cell_type": "markdown",
   "id": "b9f1a4c99ab7e655",
   "metadata": {
    "collapsed": false
   },
   "source": [
    "# Examen 2: POO\n",
    "fecha: 30/11/2023\n",
    "* El examen se aprueba con 60 puntos. Tienen hasta 11.15 am. \n",
    "* Entregar un solo archivo Jupyter con nombre y apellido.\n",
    "* Todas las consignas deben tener justificación con texto y explicación conceptual. No del código sino de la razón de la operación.\n",
    "\n",
    "Datasets:\n",
    "* conversion_para_entrenar.csv\n",
    "* ingreso_para_entrenar.csv\n",
    "* conversion_para_predecir.csv\n",
    "* costo_publicidad.csv\n",
    "* conversion_real.csv\n",
    "\n",
    "## Supermercado La gondola. Año 2092\n",
    " \n",
    "El supermercado la gondola es un líder en el sector minorista, atendiendo a clientes en el planeta tierra y con una sucursal en marte. Cuenta con una diversa gama de productos que incluye alimentación, tecnología, moda, entre otros. El supermercado posee toda su operacion de manera Holografica, por lo tanto es crucial predecir la conversión de los clientes dado su comportamiento. La idea será efectuar una campaña de marketing en aquello clientes que un algoritmo clasifique como compradores. Ahora bien dado que el costo de las publicidades holograficas es elevado, la empresa quiere solo publicitar en los clientes de alto valor. Para esto es importante generar una regresion que permita predecir el ingreso del cliente. \n",
    " \n",
    "Tu tarea como cientifico de datos es crear los dos algoritmos y luego calcular el rango de ganancia esperada de la propuesta, justificando tus servicios en el ROI del supermercado. \n",
    "\n",
    "\t\n"
   ]
  },
  {
   "cell_type": "markdown",
   "id": "ded58501353e208c",
   "metadata": {
    "collapsed": false
   },
   "source": [
    "# Clasificacion  (30 pts)\n",
    "**total de la consigna (30 pts) Separado en preprocesamiento 20pts y modelo 10pts**\n",
    "\n",
    "1. Decidir que hacer con el valor de  la ubicación \"Marte\". Si la decisión es no quedarse con Marte filtrar el dataset y continuar sin esa categoria, si la decision es quedarse con Marte, avanzar. La única razón que aceptará el directorio es demostrarlo vía datos de comportamiento del cliente respecto a **variables de navegación**. \n",
    "* Justificar graficamente \n",
    "* Realizar un t-test\n",
    "*Hint: Hay algo parecido a las semanas de embarazos del examen anterior* (10 pts)  \n",
    "\n",
    "2. Hay dos columnas con valores atipicos.  (10 pts)\n",
    "* Graficar y encontrar valores outliers\n",
    "* ¿Cuantos valores outliers hay por cada columna? Para responder esto tendra que crear una columna por variable que determine si esa row es outlier o no. A esto se le llama columna flag. Utilice la funcion find_and_filter_outliers y modifiquela para obtener lo requerido. *Hint: f-string*\n",
    "* Solo una de las dos columnas debe filtrarse y la otra no. Tenga en cuenta que vamos a usar un modelo de decisión tree que es robusto a outliers. Justificar cual y aplique la función original find_and_filter_outliers y filtrar los puntos atipicos en el nuevo dataset\n",
    "\n",
    "```python\n",
    "\n",
    "def find_and_filter_outliers(dataframe, column_name):\n",
    "    # Calcular el rango intercuartílico\n",
    "    Q1 = dataframe[column_name].quantile(0.25)\n",
    "    Q3 = dataframe[column_name].quantile(0.75)\n",
    "    IQR = Q3 - Q1\n",
    "\n",
    "    # Definir límites para los valores atípicos\n",
    "    lower_bound = Q1 - 1.5 * IQR\n",
    "    upper_bound = Q3 + 1.5 * IQR\n",
    "    \n",
    "    # marcar las rows como outliers\n",
    "    dataframe['is_outlier'] = dataframe[column_name].apply(lambda x: 'Yes' if (x < lower_bound or x > upper_bound) else 'No')\n",
    "   \n",
    "\n",
    "    # Retornar un dataset filtrado\n",
    "    return dataframe[dataframe['is_outlier'] == 'No']\n",
    "```\n",
    "3. Seleccionar solo las variables pertinentes para un modelo de clasificación de conversión. Ejemplo: No necesitamos el id de la persona. Crear una hipotesis en palabras. Cree las variables dummies si cree correspondiente (5 pts)\n",
    "```python\n",
    "df_con_dummies = pd.get_dummies(df, columns=[\"cols_for_one_hot\"])\n",
    "```\n",
    "\n",
    "### Modelo (10pts)\n",
    "4. Separar train y test. Fitear un arbol de profundidad 3. \n",
    "\n",
    "```python\n",
    "from sklearn.model_selection import train_test_split\n",
    "from sklearn.tree import DecisionTreeClassifier\n",
    "```\n",
    "5. Crear y_pred\n",
    "6. Generar  la matriz de confusion y las metricas, precision, recall y acuracy. Respecto a y_test\n",
    "```python\n",
    "from sklearn.metrics import precision_score, recall_score, accuracy_score, confusion_matrix\n",
    "```\n",
    "5. Explicar la metrica precision_score en palabras. Que significa en este contexto?\n",
    "\n",
    "6. Visualizar el arbol. ¿Que regla o reglas harías a la hora de hacer una publicidad? (hint te lo dice el grafico) \n",
    "Codigo que funciona bastante bien en todas las computadoras. \n",
    "```python\n",
    "#!pip install scikit-learn graphviz matplotlib\n",
    "from sklearn.tree import export_graphviz\n",
    "import graphviz\n",
    "\n",
    "# Exportar el árbol en formato DOT\n",
    "dot_data = export_graphviz(tree, out_file=None, \n",
    "                           feature_names=X_train.columns,  \n",
    "                           class_names=['Clase1', 'Clase2'],  # Ajusta según tus clases\n",
    "                           filled=True, rounded=True,  \n",
    "                           special_characters=True)  \n",
    "\n",
    "# Usar Graphviz para crear la visualización\n",
    "graph = graphviz.Source(dot_data)  \n",
    "graph.render(\"arbol_decision\")  # Guarda el gráfico como un archivo .png\n",
    "graph \n",
    "```"
   ]
  },
  {
   "cell_type": "markdown",
   "id": "39d87c36874e1fae",
   "metadata": {
    "collapsed": false
   },
   "source": [
    "###  Regresión (20 pts)\n",
    "\n",
    "Instrucciones y Puntaje:\n",
    "1. Valores faltantes. (5 pts)\n",
    "\n",
    "Este dataset **no tiene valores outliers** para que sea mas fácil la resolución del examen. \n",
    "Lo que si **tiene son valores nulos** en solo dos columnas. \n",
    "\n",
    "* Elegir cual columna con nulos se reemplaza con 0 y cual columna con la media por la media. Justifique.\n",
    "\n",
    "2. Selección de Variables pertinentes  (5 pts)\n",
    "Descarte la variable (o variables) que no considere importante para la predicciòn del ingreso del cliente. Justifique. \n",
    "\n",
    "3.Entrenamiento y Validación del Modelo de Regresión (10 pts)\n",
    "* Divida el conjunto de datos en entrenamiento y test. \n",
    "* Entrene un algoritmo de regresion que prediga ingreso.\n",
    "\n",
    "\n",
    "```python\n",
    "import statsmodels.api as sm\n",
    "X = sm.add_constant(X)\n",
    "modelo = sm.OLS(y, X).fit()\n",
    "```\n",
    "* Evalue el modelo utilizando la metrica MAPE\n",
    "\n",
    "\n",
    "\n",
    "\n",
    "```python\n",
    "import numpy as np\n",
    "predicciones = modelo.predict(X)\n",
    "# Calcular MAPE\n",
    "mape = np.mean(np.abs((y - predicciones) / y)) * 100\n",
    "print(f\"MAPE: {mape}%\")\n",
    "```\n",
    "* Interprete los coeficiente que significan (Explicar en palabras)\n",
    "* Intereprete el error MAPE que significa? (Explicar en palabras)\n"
   ]
  },
  {
   "cell_type": "markdown",
   "id": "ff8ad5af2c170665",
   "metadata": {
    "collapsed": false
   },
   "source": [
    "\n",
    "##  Integración de Modelos y ROI en Publicidad \n",
    "\n",
    "\n",
    "## Explicación:\n",
    "\n",
    "### Estimación del Valor Esperado del Cliente\n",
    "Dado un modelo de clasificación que provee una probabilidad de que cada cliente haga una compra, \n",
    "y un modelo de regresión que estima el ingreso por cliente, el valor esperado del ingreso de un cliente se puede calcular como:\n",
    "\n",
    "\\begin{equation*}\n",
    "ValorEsperado_{ingreso} = Probabilidad_{compra} \\times Ingreso_{estimado}\n",
    "\\end{equation*}\n",
    "\n",
    "Donde $Probabilidad_{compra}$ es la probabilidad de compra predicha por el modelo de clasificación y $Ingreso_{estimado}$ es el ingreso \n",
    "estimado del modelo de regresión.\n",
    "\n",
    "### Cálculo del Costo de Publicidad total\n",
    "El costo de publicidad total se pude estimar dado nuestro modelo de clasificación. Aunque sea en otro set de entrenamiento tenemos una estimación que podemos inferir para otra muestra. La formula es\n",
    "\n",
    "\\begin{equation*}\n",
    "CostoPublicidad_{Total} = FP_{count} \\times Costo_{publicidad}\n",
    "\\end{equation*}\n",
    "\n",
    "Donde $FP_{count}$ es el número de falsos positivos y $Costo_{publicidad}$ es el costo de publicidad por cliente dado en el dataset costo.csv\n",
    "\n",
    "\n",
    "\n",
    "\n",
    "\n",
    "\n"
   ]
  },
  {
   "cell_type": "markdown",
   "id": "c8e17471571078dc",
   "metadata": {
    "collapsed": false
   },
   "source": [
    "#### Cálculo del ROI\n",
    "\n",
    "\n",
    "\n",
    "\\begin{equation*}\n",
    "ROI = \\frac{\\left((TP \\times ValorEsperado_{ingreso}) \\right) - \\left( CostoPublicidad_{Total} \\right)}{CostoPublicidad_{Total}}\n",
    "\\end{equation*}\n",
    "\n"
   ]
  },
  {
   "cell_type": "markdown",
   "id": "147fb87f55d65cb5",
   "metadata": {
    "collapsed": false
   },
   "source": [
    "\n",
    "## Consignas ganancia del modelo (50pts):\n",
    "a. Utilice para predecir los datasets correspondientes.\n",
    "b. ¿Cual es el valor esperado del algoritmo? \n",
    "c. Dado el resultado del modelo en el punto 1 del examen (1. Clasificacion). De 1000 clientes ¿Cuantos espera que sea Falsos positivos? Con esa suposición calcule el costo de publicidad total. \n",
    "d. Paso un mes y sabemos quienes convirtieron. conversion_real.csv. Calcule el roi (hint: vaya calculando cada elemento de la ecuación)\n",
    "e. Que cliente tiene mayor ROI? \n",
    "hint: \n",
    "```python\n",
    ".nlargest(1, 'roi')\n",
    "```\n",
    "f. ¿Cual es el ROI real del modelo?\n"
   ]
  },
  {
   "cell_type": "code",
   "execution_count": null,
   "id": "a2899367c7029454",
   "metadata": {
    "ExecuteTime": {
     "end_time": "2023-11-28T18:34:24.687558800Z",
     "start_time": "2023-11-28T18:34:24.670078100Z"
    },
    "collapsed": false
   },
   "outputs": [],
   "source": []
  },
  {
   "cell_type": "code",
   "execution_count": null,
   "id": "981714ddebacaf22",
   "metadata": {
    "collapsed": false
   },
   "outputs": [],
   "source": []
  }
 ],
 "metadata": {
  "kernelspec": {
   "display_name": "Python 3",
   "language": "python",
   "name": "python3"
  },
  "language_info": {
   "codemirror_mode": {
    "name": "ipython",
    "version": 3
   },
   "file_extension": ".py",
   "mimetype": "text/x-python",
   "name": "python",
   "nbconvert_exporter": "python",
   "pygments_lexer": "ipython3",
   "version": "3.11.5"
  }
 },
 "nbformat": 4,
 "nbformat_minor": 5
}
